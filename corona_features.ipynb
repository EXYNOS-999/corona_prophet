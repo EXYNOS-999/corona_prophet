{
  "nbformat": 4,
  "nbformat_minor": 0,
  "metadata": {
    "colab": {
      "name": "Corona2.ipynb",
      "provenance": [],
      "collapsed_sections": [],
      "include_colab_link": true
    },
    "kernelspec": {
      "name": "python3",
      "display_name": "Python 3"
    }
  },
  "cells": [
    {
      "cell_type": "markdown",
      "metadata": {
        "id": "view-in-github",
        "colab_type": "text"
      },
      "source": [
        "<a href=\"https://colab.research.google.com/github/EXYNOS-999/corona_prophet/blob/master/corona_features.ipynb\" target=\"_parent\"><img src=\"https://colab.research.google.com/assets/colab-badge.svg\" alt=\"Open In Colab\"/></a>"
      ]
    },
    {
      "cell_type": "markdown",
      "metadata": {
        "id": "WnjwXSbdcWqC",
        "colab_type": "text"
      },
      "source": [
        "# **Following notebook is an analysis of various features and thier effects in predicting nCOV Virus**"
      ]
    },
    {
      "cell_type": "markdown",
      "metadata": {
        "id": "f03I2UOpcm--",
        "colab_type": "text"
      },
      "source": [
        ""
      ]
    },
    {
      "cell_type": "code",
      "metadata": {
        "id": "0hnSjNdFFOWf",
        "colab_type": "code",
        "colab": {}
      },
      "source": [
        "import pandas as pd\n",
        "import numpy as np\n",
        "import matplotlib.pyplot as plt\n",
        "import seaborn as sns"
      ],
      "execution_count": 0,
      "outputs": []
    },
    {
      "cell_type": "code",
      "metadata": {
        "id": "cuNWJyZFFWb-",
        "colab_type": "code",
        "colab": {}
      },
      "source": [
        "data=pd.read_csv(\"/content/2019_nCoV_data.csv\")"
      ],
      "execution_count": 0,
      "outputs": []
    },
    {
      "cell_type": "code",
      "metadata": {
        "id": "KKnhTU0pF6SL",
        "colab_type": "code",
        "colab": {}
      },
      "source": [
        "data['Last Update'] = pd.to_datetime(data['Last Update'])"
      ],
      "execution_count": 0,
      "outputs": []
    },
    {
      "cell_type": "code",
      "metadata": {
        "id": "jUlmQAwa9w2O",
        "colab_type": "code",
        "colab": {}
      },
      "source": [
        "grouped_country=data.groupby(\"Country\")[['Last Update','Confirmed', 'Deaths', 'Recovered']]"
      ],
      "execution_count": 0,
      "outputs": []
    },
    {
      "cell_type": "markdown",
      "metadata": {
        "id": "AKhXQb4GcxdE",
        "colab_type": "text"
      },
      "source": [
        "Generalizing dataset for Chinese Subcontinet"
      ]
    },
    {
      "cell_type": "code",
      "metadata": {
        "id": "6o9eOqlHGXNb",
        "colab_type": "code",
        "colab": {}
      },
      "source": [
        "china=data[(data['Country']=='China') |( data['Country']=='Mainland China')|( data['Country']=='Hong Kong')]"
      ],
      "execution_count": 0,
      "outputs": []
    },
    {
      "cell_type": "code",
      "metadata": {
        "id": "mv5mEuPHdWCF",
        "colab_type": "code",
        "outputId": "16d36ec3-52d2-4609-e675-6a0f034b89f6",
        "colab": {
          "base_uri": "https://localhost:8080/",
          "height": 399
        }
      },
      "source": [
        "china"
      ],
      "execution_count": 0,
      "outputs": [
        {
          "output_type": "execute_result",
          "data": {
            "text/html": [
              "<div>\n",
              "<style scoped>\n",
              "    .dataframe tbody tr th:only-of-type {\n",
              "        vertical-align: middle;\n",
              "    }\n",
              "\n",
              "    .dataframe tbody tr th {\n",
              "        vertical-align: top;\n",
              "    }\n",
              "\n",
              "    .dataframe thead th {\n",
              "        text-align: right;\n",
              "    }\n",
              "</style>\n",
              "<table border=\"1\" class=\"dataframe\">\n",
              "  <thead>\n",
              "    <tr style=\"text-align: right;\">\n",
              "      <th></th>\n",
              "      <th>Sno</th>\n",
              "      <th>Province/State</th>\n",
              "      <th>Country</th>\n",
              "      <th>Last Update</th>\n",
              "      <th>Confirmed</th>\n",
              "      <th>Deaths</th>\n",
              "      <th>Recovered</th>\n",
              "    </tr>\n",
              "  </thead>\n",
              "  <tbody>\n",
              "    <tr>\n",
              "      <th>0</th>\n",
              "      <td>1</td>\n",
              "      <td>Anhui</td>\n",
              "      <td>China</td>\n",
              "      <td>2020-01-22 12:00:00</td>\n",
              "      <td>1.0</td>\n",
              "      <td>0.0</td>\n",
              "      <td>0.0</td>\n",
              "    </tr>\n",
              "    <tr>\n",
              "      <th>1</th>\n",
              "      <td>2</td>\n",
              "      <td>Beijing</td>\n",
              "      <td>China</td>\n",
              "      <td>2020-01-22 12:00:00</td>\n",
              "      <td>14.0</td>\n",
              "      <td>0.0</td>\n",
              "      <td>0.0</td>\n",
              "    </tr>\n",
              "    <tr>\n",
              "      <th>2</th>\n",
              "      <td>3</td>\n",
              "      <td>Chongqing</td>\n",
              "      <td>China</td>\n",
              "      <td>2020-01-22 12:00:00</td>\n",
              "      <td>6.0</td>\n",
              "      <td>0.0</td>\n",
              "      <td>0.0</td>\n",
              "    </tr>\n",
              "    <tr>\n",
              "      <th>3</th>\n",
              "      <td>4</td>\n",
              "      <td>Fujian</td>\n",
              "      <td>China</td>\n",
              "      <td>2020-01-22 12:00:00</td>\n",
              "      <td>1.0</td>\n",
              "      <td>0.0</td>\n",
              "      <td>0.0</td>\n",
              "    </tr>\n",
              "    <tr>\n",
              "      <th>4</th>\n",
              "      <td>5</td>\n",
              "      <td>Gansu</td>\n",
              "      <td>China</td>\n",
              "      <td>2020-01-22 12:00:00</td>\n",
              "      <td>0.0</td>\n",
              "      <td>0.0</td>\n",
              "      <td>0.0</td>\n",
              "    </tr>\n",
              "    <tr>\n",
              "      <th>...</th>\n",
              "      <td>...</td>\n",
              "      <td>...</td>\n",
              "      <td>...</td>\n",
              "      <td>...</td>\n",
              "      <td>...</td>\n",
              "      <td>...</td>\n",
              "      <td>...</td>\n",
              "    </tr>\n",
              "    <tr>\n",
              "      <th>402</th>\n",
              "      <td>403</td>\n",
              "      <td>Guizhou</td>\n",
              "      <td>Chinese Sub</td>\n",
              "      <td>2020-01-30 21:30:00</td>\n",
              "      <td>15.0</td>\n",
              "      <td>0.0</td>\n",
              "      <td>1.0</td>\n",
              "    </tr>\n",
              "    <tr>\n",
              "      <th>403</th>\n",
              "      <td>404</td>\n",
              "      <td>Jilin</td>\n",
              "      <td>Chinese Sub</td>\n",
              "      <td>2020-01-30 21:30:00</td>\n",
              "      <td>14.0</td>\n",
              "      <td>0.0</td>\n",
              "      <td>1.0</td>\n",
              "    </tr>\n",
              "    <tr>\n",
              "      <th>404</th>\n",
              "      <td>405</td>\n",
              "      <td>Hong Kong</td>\n",
              "      <td>Chinese Sub</td>\n",
              "      <td>2020-01-30 21:30:00</td>\n",
              "      <td>12.0</td>\n",
              "      <td>0.0</td>\n",
              "      <td>0.0</td>\n",
              "    </tr>\n",
              "    <tr>\n",
              "      <th>406</th>\n",
              "      <td>407</td>\n",
              "      <td>Qinghai</td>\n",
              "      <td>Chinese Sub</td>\n",
              "      <td>2020-01-30 21:30:00</td>\n",
              "      <td>8.0</td>\n",
              "      <td>0.0</td>\n",
              "      <td>0.0</td>\n",
              "    </tr>\n",
              "    <tr>\n",
              "      <th>408</th>\n",
              "      <td>409</td>\n",
              "      <td>Tibet</td>\n",
              "      <td>Chinese Sub</td>\n",
              "      <td>2020-01-30 21:30:00</td>\n",
              "      <td>1.0</td>\n",
              "      <td>0.0</td>\n",
              "      <td>0.0</td>\n",
              "    </tr>\n",
              "  </tbody>\n",
              "</table>\n",
              "<p>285 rows × 7 columns</p>\n",
              "</div>"
            ],
            "text/plain": [
              "     Sno Province/State      Country  ... Confirmed  Deaths  Recovered\n",
              "0      1          Anhui        China  ...       1.0     0.0        0.0\n",
              "1      2        Beijing        China  ...      14.0     0.0        0.0\n",
              "2      3      Chongqing        China  ...       6.0     0.0        0.0\n",
              "3      4         Fujian        China  ...       1.0     0.0        0.0\n",
              "4      5          Gansu        China  ...       0.0     0.0        0.0\n",
              "..   ...            ...          ...  ...       ...     ...        ...\n",
              "402  403        Guizhou  Chinese Sub  ...      15.0     0.0        1.0\n",
              "403  404          Jilin  Chinese Sub  ...      14.0     0.0        1.0\n",
              "404  405      Hong Kong  Chinese Sub  ...      12.0     0.0        0.0\n",
              "406  407        Qinghai  Chinese Sub  ...       8.0     0.0        0.0\n",
              "408  409          Tibet  Chinese Sub  ...       1.0     0.0        0.0\n",
              "\n",
              "[285 rows x 7 columns]"
            ]
          },
          "metadata": {
            "tags": []
          },
          "execution_count": 130
        }
      ]
    },
    {
      "cell_type": "markdown",
      "metadata": {
        "id": "fNw1cVBDddf-",
        "colab_type": "text"
      },
      "source": [
        "Unique countries with known cases"
      ]
    },
    {
      "cell_type": "code",
      "metadata": {
        "id": "CuSPw27bMRla",
        "colab_type": "code",
        "outputId": "c3e1943a-ea9c-4ef5-8f14-6e7044733cda",
        "colab": {
          "base_uri": "https://localhost:8080/",
          "height": 124
        }
      },
      "source": [
        "data['Country'].unique()"
      ],
      "execution_count": 0,
      "outputs": [
        {
          "output_type": "execute_result",
          "data": {
            "text/plain": [
              "array(['China', 'US', 'Japan', 'Thailand', 'South Korea',\n",
              "       'Mainland China', 'Hong Kong', 'Macau', 'Taiwan', 'Singapore',\n",
              "       'Philippines', 'Malaysia', 'Vietnam', 'Australia', 'Mexico',\n",
              "       'Brazil', 'France', 'Nepal', 'Canada', 'Cambodia', 'Sri Lanka',\n",
              "       'Ivory Coast', 'Germany', 'Finland', 'United Arab Emirates',\n",
              "       'India', 'Italy'], dtype=object)"
            ]
          },
          "metadata": {
            "tags": []
          },
          "execution_count": 128
        }
      ]
    },
    {
      "cell_type": "code",
      "metadata": {
        "id": "QPh7bewYGczy",
        "colab_type": "code",
        "outputId": "4b385735-6d3f-4743-aa67-7bc46e1d01df",
        "colab": {
          "base_uri": "https://localhost:8080/",
          "height": 106
        }
      },
      "source": [
        "china['Country'].replace('Mainland China','Chinese Sub',inplace=True)\n",
        "china['Country'].replace('Hong Kong','Chinese Sub',inplace=True)"
      ],
      "execution_count": 0,
      "outputs": [
        {
          "output_type": "stream",
          "text": [
            "/usr/local/lib/python3.6/dist-packages/pandas/core/generic.py:6786: SettingWithCopyWarning: \n",
            "A value is trying to be set on a copy of a slice from a DataFrame\n",
            "\n",
            "See the caveats in the documentation: http://pandas.pydata.org/pandas-docs/stable/user_guide/indexing.html#returning-a-view-versus-a-copy\n",
            "  self._update_inplace(new_data)\n"
          ],
          "name": "stderr"
        }
      ]
    },
    {
      "cell_type": "code",
      "metadata": {
        "id": "HdWki7uhGfmK",
        "colab_type": "code",
        "colab": {}
      },
      "source": [
        "Chinese=china.groupby('Last Update')['Confirmed','Deaths','Recovered'].sum().reset_index()"
      ],
      "execution_count": 0,
      "outputs": []
    },
    {
      "cell_type": "code",
      "metadata": {
        "id": "vpPxLqDbGiL8",
        "colab_type": "code",
        "outputId": "87869d63-2d5e-4de5-fcb3-dec696a694f8",
        "colab": {
          "base_uri": "https://localhost:8080/",
          "height": 340
        }
      },
      "source": [
        "Chinese"
      ],
      "execution_count": 0,
      "outputs": [
        {
          "output_type": "execute_result",
          "data": {
            "text/html": [
              "<div>\n",
              "<style scoped>\n",
              "    .dataframe tbody tr th:only-of-type {\n",
              "        vertical-align: middle;\n",
              "    }\n",
              "\n",
              "    .dataframe tbody tr th {\n",
              "        vertical-align: top;\n",
              "    }\n",
              "\n",
              "    .dataframe thead th {\n",
              "        text-align: right;\n",
              "    }\n",
              "</style>\n",
              "<table border=\"1\" class=\"dataframe\">\n",
              "  <thead>\n",
              "    <tr style=\"text-align: right;\">\n",
              "      <th></th>\n",
              "      <th>Last Update</th>\n",
              "      <th>Confirmed</th>\n",
              "      <th>Deaths</th>\n",
              "      <th>Recovered</th>\n",
              "    </tr>\n",
              "  </thead>\n",
              "  <tbody>\n",
              "    <tr>\n",
              "      <th>0</th>\n",
              "      <td>2020-01-22 12:00:00</td>\n",
              "      <td>549.0</td>\n",
              "      <td>0.0</td>\n",
              "      <td>0.0</td>\n",
              "    </tr>\n",
              "    <tr>\n",
              "      <th>1</th>\n",
              "      <td>2020-01-23 12:00:00</td>\n",
              "      <td>641.0</td>\n",
              "      <td>18.0</td>\n",
              "      <td>30.0</td>\n",
              "    </tr>\n",
              "    <tr>\n",
              "      <th>2</th>\n",
              "      <td>2020-01-24 12:00:00</td>\n",
              "      <td>918.0</td>\n",
              "      <td>26.0</td>\n",
              "      <td>36.0</td>\n",
              "    </tr>\n",
              "    <tr>\n",
              "      <th>3</th>\n",
              "      <td>2020-01-25 12:00:00</td>\n",
              "      <td>828.0</td>\n",
              "      <td>4.0</td>\n",
              "      <td>6.0</td>\n",
              "    </tr>\n",
              "    <tr>\n",
              "      <th>4</th>\n",
              "      <td>2020-01-25 22:00:00</td>\n",
              "      <td>1156.0</td>\n",
              "      <td>52.0</td>\n",
              "      <td>43.0</td>\n",
              "    </tr>\n",
              "    <tr>\n",
              "      <th>5</th>\n",
              "      <td>2020-01-26 23:00:00</td>\n",
              "      <td>2745.0</td>\n",
              "      <td>80.0</td>\n",
              "      <td>51.0</td>\n",
              "    </tr>\n",
              "    <tr>\n",
              "      <th>6</th>\n",
              "      <td>2020-01-27 20:30:00</td>\n",
              "      <td>4417.0</td>\n",
              "      <td>107.0</td>\n",
              "      <td>60.0</td>\n",
              "    </tr>\n",
              "    <tr>\n",
              "      <th>7</th>\n",
              "      <td>2020-01-28 23:00:00</td>\n",
              "      <td>5978.0</td>\n",
              "      <td>132.0</td>\n",
              "      <td>104.0</td>\n",
              "    </tr>\n",
              "    <tr>\n",
              "      <th>8</th>\n",
              "      <td>2020-01-29 21:00:00</td>\n",
              "      <td>7688.0</td>\n",
              "      <td>170.0</td>\n",
              "      <td>127.0</td>\n",
              "    </tr>\n",
              "    <tr>\n",
              "      <th>9</th>\n",
              "      <td>2020-01-30 21:30:00</td>\n",
              "      <td>9670.0</td>\n",
              "      <td>213.0</td>\n",
              "      <td>179.0</td>\n",
              "    </tr>\n",
              "  </tbody>\n",
              "</table>\n",
              "</div>"
            ],
            "text/plain": [
              "          Last Update  Confirmed  Deaths  Recovered\n",
              "0 2020-01-22 12:00:00      549.0     0.0        0.0\n",
              "1 2020-01-23 12:00:00      641.0    18.0       30.0\n",
              "2 2020-01-24 12:00:00      918.0    26.0       36.0\n",
              "3 2020-01-25 12:00:00      828.0     4.0        6.0\n",
              "4 2020-01-25 22:00:00     1156.0    52.0       43.0\n",
              "5 2020-01-26 23:00:00     2745.0    80.0       51.0\n",
              "6 2020-01-27 20:30:00     4417.0   107.0       60.0\n",
              "7 2020-01-28 23:00:00     5978.0   132.0      104.0\n",
              "8 2020-01-29 21:00:00     7688.0   170.0      127.0\n",
              "9 2020-01-30 21:30:00     9670.0   213.0      179.0"
            ]
          },
          "metadata": {
            "tags": []
          },
          "execution_count": 289
        }
      ]
    },
    {
      "cell_type": "code",
      "metadata": {
        "id": "er3XmWP-GkQq",
        "colab_type": "code",
        "colab": {}
      },
      "source": [
        "x=Chinese[['Last Update','Deaths','Recovered']]"
      ],
      "execution_count": 0,
      "outputs": []
    },
    {
      "cell_type": "code",
      "metadata": {
        "id": "W6jvmdz3G0Q0",
        "colab_type": "code",
        "colab": {}
      },
      "source": [
        "y=Chinese[['Confirmed']]"
      ],
      "execution_count": 0,
      "outputs": []
    },
    {
      "cell_type": "markdown",
      "metadata": {
        "id": "cKhPh6KQdpvm",
        "colab_type": "text"
      },
      "source": [
        "Chinese Currency Data -INR changes "
      ]
    },
    {
      "cell_type": "code",
      "metadata": {
        "id": "Vdoe9vfCG-hr",
        "colab_type": "code",
        "colab": {}
      },
      "source": [
        "currency_china=pd.DataFrame([10.307,\n",
        "10.318,\n",
        "10.28,\n",
        "10.27,10.27,\n",
        "10.3,\n",
        "10.282,\n",
        "10.282,\n",
        "10.282,\n",
        "10.283])"
      ],
      "execution_count": 0,
      "outputs": []
    },
    {
      "cell_type": "code",
      "metadata": {
        "id": "QsaHeaTJHLgC",
        "colab_type": "code",
        "colab": {}
      },
      "source": [
        "currency_china.columns=['Currency']"
      ],
      "execution_count": 0,
      "outputs": []
    },
    {
      "cell_type": "code",
      "metadata": {
        "id": "coJZnckXHt1z",
        "colab_type": "code",
        "colab": {}
      },
      "source": [
        "f1=pd.concat([x,currency_china['Currency']],axis=1)"
      ],
      "execution_count": 0,
      "outputs": []
    },
    {
      "cell_type": "code",
      "metadata": {
        "id": "gtBYlGyLHzob",
        "colab_type": "code",
        "colab": {}
      },
      "source": [
        "f1=f1.drop(columns=['Last Update'])"
      ],
      "execution_count": 0,
      "outputs": []
    },
    {
      "cell_type": "markdown",
      "metadata": {
        "id": "6hzRlhzDfZ7p",
        "colab_type": "text"
      },
      "source": [
        "# Correlation between currency and deaths"
      ]
    },
    {
      "cell_type": "code",
      "metadata": {
        "id": "LxHA4sYIfV_Q",
        "colab_type": "code",
        "outputId": "54e23230-8a8f-4f28-d2b7-b937f965db8e",
        "colab": {
          "base_uri": "https://localhost:8080/",
          "height": 287
        }
      },
      "source": [
        "sns.heatmap(f1.corr())"
      ],
      "execution_count": 0,
      "outputs": [
        {
          "output_type": "execute_result",
          "data": {
            "text/plain": [
              "<matplotlib.axes._subplots.AxesSubplot at 0x7fe42be24fd0>"
            ]
          },
          "metadata": {
            "tags": []
          },
          "execution_count": 296
        },
        {
          "output_type": "display_data",
          "data": {
            "image/png": "[encoded data removed]",
            "text/plain": [
              "<Figure size 432x288 with 2 Axes>"
            ]
          },
          "metadata": {
            "tags": []
          }
        }
      ]
    },
    {
      "cell_type": "code",
      "metadata": {
        "id": "wbTCM_kgI1nt",
        "colab_type": "code",
        "outputId": "123e6b4d-6d17-43ac-a93f-87cc3fc62360",
        "colab": {
          "base_uri": "https://localhost:8080/",
          "height": 72
        }
      },
      "source": [
        "from sklearn.svm import SVR\n",
        "model=SVR(kernel='linear',C=0.25,tol=0.0035)\n",
        "model.fit(f1.values,y.values)\n",
        "predicted=model.predict(f1.values)"
      ],
      "execution_count": 0,
      "outputs": [
        {
          "output_type": "stream",
          "text": [
            "/usr/local/lib/python3.6/dist-packages/sklearn/utils/validation.py:760: DataConversionWarning: A column-vector y was passed when a 1d array was expected. Please change the shape of y to (n_samples, ), for example using ravel().\n",
            "  y = column_or_1d(y, warn=True)\n"
          ],
          "name": "stderr"
        }
      ]
    },
    {
      "cell_type": "code",
      "metadata": {
        "id": "_3KSpqS7JXBT",
        "colab_type": "code",
        "outputId": "85309904-7f40-441a-cda2-e3df6edc914a",
        "colab": {
          "base_uri": "https://localhost:8080/",
          "height": 70
        }
      },
      "source": [
        "predicted"
      ],
      "execution_count": 0,
      "outputs": [
        {
          "output_type": "execute_result",
          "data": {
            "text/plain": [
              "array([ 135.56383489, 1193.98002267, 1539.80178439,  359.44172434,\n",
              "       2451.35971355, 3440.87826696, 4416.90014115, 5926.56363951,\n",
              "       7475.77649347, 9670.0990778 ])"
            ]
          },
          "metadata": {
            "tags": []
          },
          "execution_count": 298
        }
      ]
    },
    {
      "cell_type": "code",
      "metadata": {
        "id": "VodgZ-YHJsab",
        "colab_type": "code",
        "outputId": "6a42c13a-b459-4a60-f765-84c1c6b05e9f",
        "colab": {
          "base_uri": "https://localhost:8080/",
          "height": 298
        }
      },
      "source": [
        "plt.plot(np.arange(10),predicted,c='red')\n",
        "plt.plot(np.arange(10),y.values)\n",
        "plt.xticks(np.arange(10))\n",
        "plt.xlabel('Days')\n",
        "plt.ylabel('Confirmed Cases')"
      ],
      "execution_count": 0,
      "outputs": [
        {
          "output_type": "execute_result",
          "data": {
            "text/plain": [
              "Text(0, 0.5, 'Confirmed Cases')"
            ]
          },
          "metadata": {
            "tags": []
          },
          "execution_count": 299
        },
        {
          "output_type": "display_data",
          "data": {
            "image/png": "[encoded data removed]",
            "text/plain": [
              "<Figure size 432x288 with 1 Axes>"
            ]
          },
          "metadata": {
            "tags": []
          }
        }
      ]
    },
    {
      "cell_type": "markdown",
      "metadata": {
        "id": "ROM77BoehTEa",
        "colab_type": "text"
      },
      "source": [
        "- Initial drop in currency  first indicator of virus\n",
        "- As time progresses currency stabilizes itself"
      ]
    },
    {
      "cell_type": "code",
      "metadata": {
        "id": "iq-QcavqfoKP",
        "colab_type": "code",
        "outputId": "f4825ec7-47fe-4fc4-97a2-fe84390f99a2",
        "colab": {
          "base_uri": "https://localhost:8080/",
          "height": 295
        }
      },
      "source": [
        "plt.plot(Chinese['Confirmed'],f1['Currency'])\n",
        "plt.title(\"Confirmed Cases vs Currency Relationship\")\n",
        "plt.xlabel(\"Confirmed Cases Freq\")\n",
        "plt.ylabel('Currency Fluctuation(CN-INR)')\n",
        "plt.grid(True)"
      ],
      "execution_count": 0,
      "outputs": [
        {
          "output_type": "display_data",
          "data": {
            "image/png": "[encoded data removed]",
            "text/plain": [
              "<Figure size 432x288 with 1 Axes>"
            ]
          },
          "metadata": {
            "tags": []
          }
        }
      ]
    },
    {
      "cell_type": "markdown",
      "metadata": {
        "id": "hb3jgItuoH2p",
        "colab_type": "text"
      },
      "source": [
        " # Share Price drop\n",
        " An evident drop in share price of those operating in Wuhan\n",
        "\n"
      ]
    },
    {
      "cell_type": "code",
      "metadata": {
        "id": "xBb30wIooHAk",
        "colab_type": "code",
        "colab": {}
      },
      "source": [
        "peuget_shares=pd.DataFrame([38.96,36.99,36.27,36.20,36.15,35.10,35.56,36.15,35.58,35.24])"
      ],
      "execution_count": 0,
      "outputs": []
    },
    {
      "cell_type": "code",
      "metadata": {
        "id": "EyZx3uCdoMSF",
        "colab_type": "code",
        "colab": {}
      },
      "source": [
        "f1=pd.concat([f1,peuget_shares],axis=1)"
      ],
      "execution_count": 0,
      "outputs": []
    },
    {
      "cell_type": "code",
      "metadata": {
        "id": "SRspDyj2oWP4",
        "colab_type": "code",
        "colab": {}
      },
      "source": [
        "f1.columns=[ 'Deaths', 'Recovered','Currency','Shares(EUR)']"
      ],
      "execution_count": 0,
      "outputs": []
    },
    {
      "cell_type": "code",
      "metadata": {
        "id": "_c-QWP4KpFcu",
        "colab_type": "code",
        "outputId": "579214bb-fc9a-4cd8-a568-bf504f01c798",
        "colab": {
          "base_uri": "https://localhost:8080/",
          "height": 295
        }
      },
      "source": [
        "plt.plot(Chinese['Confirmed'],f1['Shares(EUR)'])\n",
        "plt.title(\"Confirmed Cases vs Shares Relationship\")\n",
        "plt.xlabel(\"Confirmed Cases Freq\")\n",
        "plt.ylabel('Shares Trend(EU)')\n",
        "plt.grid(True)"
      ],
      "execution_count": 0,
      "outputs": [
        {
          "output_type": "display_data",
          "data": {
            "image/png": "[encoded data removed]",
            "text/plain": [
              "<Figure size 432x288 with 1 Axes>"
            ]
          },
          "metadata": {
            "tags": []
          }
        }
      ]
    },
    {
      "cell_type": "markdown",
      "metadata": {
        "id": "Oodo79DBwxGC",
        "colab_type": "text"
      },
      "source": [
        "# Geological Features such as weather,etc"
      ]
    },
    {
      "cell_type": "markdown",
      "metadata": {
        "id": "fbhLYVLaw5E6",
        "colab_type": "text"
      },
      "source": [
        "HighestTemp LowestTemp Humidity   LowHumidity\n",
        "8             -2           91          93\n",
        "7              4           92          80\n",
        "8              4           92          87\n",
        "7              6           90          87\n",
        "6              4           90          81\n",
        "4              2           82          75\n",
        "5              2           84          57\n",
        "8              2           90          58\n",
        "12            -3           92          42\n",
        "14            -2           70          37\n",
        "\n",
        "\n",
        "\n"
      ]
    },
    {
      "cell_type": "code",
      "metadata": {
        "id": "mLVJ7Fdx0VPb",
        "colab_type": "code",
        "colab": {}
      },
      "source": [
        "weather=pd.read_csv('/content/ChinaWeather.csv')"
      ],
      "execution_count": 0,
      "outputs": []
    },
    {
      "cell_type": "code",
      "metadata": {
        "id": "YZoKv8nh19zL",
        "colab_type": "code",
        "colab": {}
      },
      "source": [
        "f1=pd.concat([f1,weather],axis=1)"
      ],
      "execution_count": 0,
      "outputs": []
    },
    {
      "cell_type": "code",
      "metadata": {
        "id": "9uAeexEj2G6K",
        "colab_type": "code",
        "colab": {}
      },
      "source": [
        "f1=f1.fillna(method='ffill')"
      ],
      "execution_count": 0,
      "outputs": []
    },
    {
      "cell_type": "code",
      "metadata": {
        "id": "3GFdytC35MWC",
        "colab_type": "code",
        "outputId": "2b3570af-b624-4200-c3a6-3a213be16502",
        "colab": {
          "base_uri": "https://localhost:8080/",
          "height": 340
        }
      },
      "source": [
        "f1"
      ],
      "execution_count": 0,
      "outputs": [
        {
          "output_type": "execute_result",
          "data": {
            "text/html": [
              "<div>\n",
              "<style scoped>\n",
              "    .dataframe tbody tr th:only-of-type {\n",
              "        vertical-align: middle;\n",
              "    }\n",
              "\n",
              "    .dataframe tbody tr th {\n",
              "        vertical-align: top;\n",
              "    }\n",
              "\n",
              "    .dataframe thead th {\n",
              "        text-align: right;\n",
              "    }\n",
              "</style>\n",
              "<table border=\"1\" class=\"dataframe\">\n",
              "  <thead>\n",
              "    <tr style=\"text-align: right;\">\n",
              "      <th></th>\n",
              "      <th>Deaths</th>\n",
              "      <th>Recovered</th>\n",
              "      <th>Currency</th>\n",
              "      <th>Shares(EUR)</th>\n",
              "      <th>HT</th>\n",
              "      <th>LT</th>\n",
              "      <th>HHUM</th>\n",
              "      <th>LHUM</th>\n",
              "    </tr>\n",
              "  </thead>\n",
              "  <tbody>\n",
              "    <tr>\n",
              "      <th>0</th>\n",
              "      <td>0.0</td>\n",
              "      <td>0.0</td>\n",
              "      <td>10.307</td>\n",
              "      <td>38.96</td>\n",
              "      <td>8.0</td>\n",
              "      <td>-2.0</td>\n",
              "      <td>91.0</td>\n",
              "      <td>93.0</td>\n",
              "    </tr>\n",
              "    <tr>\n",
              "      <th>1</th>\n",
              "      <td>18.0</td>\n",
              "      <td>30.0</td>\n",
              "      <td>10.318</td>\n",
              "      <td>36.99</td>\n",
              "      <td>7.0</td>\n",
              "      <td>4.0</td>\n",
              "      <td>92.0</td>\n",
              "      <td>80.0</td>\n",
              "    </tr>\n",
              "    <tr>\n",
              "      <th>2</th>\n",
              "      <td>26.0</td>\n",
              "      <td>36.0</td>\n",
              "      <td>10.280</td>\n",
              "      <td>36.27</td>\n",
              "      <td>8.0</td>\n",
              "      <td>4.0</td>\n",
              "      <td>90.0</td>\n",
              "      <td>87.0</td>\n",
              "    </tr>\n",
              "    <tr>\n",
              "      <th>3</th>\n",
              "      <td>4.0</td>\n",
              "      <td>6.0</td>\n",
              "      <td>10.270</td>\n",
              "      <td>36.20</td>\n",
              "      <td>6.0</td>\n",
              "      <td>6.0</td>\n",
              "      <td>90.0</td>\n",
              "      <td>81.0</td>\n",
              "    </tr>\n",
              "    <tr>\n",
              "      <th>4</th>\n",
              "      <td>52.0</td>\n",
              "      <td>43.0</td>\n",
              "      <td>10.270</td>\n",
              "      <td>36.15</td>\n",
              "      <td>4.0</td>\n",
              "      <td>4.0</td>\n",
              "      <td>82.0</td>\n",
              "      <td>75.0</td>\n",
              "    </tr>\n",
              "    <tr>\n",
              "      <th>5</th>\n",
              "      <td>80.0</td>\n",
              "      <td>51.0</td>\n",
              "      <td>10.300</td>\n",
              "      <td>35.10</td>\n",
              "      <td>5.0</td>\n",
              "      <td>2.0</td>\n",
              "      <td>84.0</td>\n",
              "      <td>57.0</td>\n",
              "    </tr>\n",
              "    <tr>\n",
              "      <th>6</th>\n",
              "      <td>107.0</td>\n",
              "      <td>60.0</td>\n",
              "      <td>10.282</td>\n",
              "      <td>35.56</td>\n",
              "      <td>8.0</td>\n",
              "      <td>2.0</td>\n",
              "      <td>90.0</td>\n",
              "      <td>58.0</td>\n",
              "    </tr>\n",
              "    <tr>\n",
              "      <th>7</th>\n",
              "      <td>132.0</td>\n",
              "      <td>104.0</td>\n",
              "      <td>10.282</td>\n",
              "      <td>36.15</td>\n",
              "      <td>12.0</td>\n",
              "      <td>-3.0</td>\n",
              "      <td>92.0</td>\n",
              "      <td>42.0</td>\n",
              "    </tr>\n",
              "    <tr>\n",
              "      <th>8</th>\n",
              "      <td>170.0</td>\n",
              "      <td>127.0</td>\n",
              "      <td>10.282</td>\n",
              "      <td>35.58</td>\n",
              "      <td>14.0</td>\n",
              "      <td>-2.0</td>\n",
              "      <td>70.0</td>\n",
              "      <td>37.0</td>\n",
              "    </tr>\n",
              "    <tr>\n",
              "      <th>9</th>\n",
              "      <td>213.0</td>\n",
              "      <td>179.0</td>\n",
              "      <td>10.283</td>\n",
              "      <td>35.24</td>\n",
              "      <td>14.0</td>\n",
              "      <td>-2.0</td>\n",
              "      <td>70.0</td>\n",
              "      <td>37.0</td>\n",
              "    </tr>\n",
              "  </tbody>\n",
              "</table>\n",
              "</div>"
            ],
            "text/plain": [
              "   Deaths  Recovered  Currency  Shares(EUR)    HT   LT  HHUM  LHUM\n",
              "0     0.0        0.0    10.307        38.96   8.0 -2.0  91.0  93.0\n",
              "1    18.0       30.0    10.318        36.99   7.0  4.0  92.0  80.0\n",
              "2    26.0       36.0    10.280        36.27   8.0  4.0  90.0  87.0\n",
              "3     4.0        6.0    10.270        36.20   6.0  6.0  90.0  81.0\n",
              "4    52.0       43.0    10.270        36.15   4.0  4.0  82.0  75.0\n",
              "5    80.0       51.0    10.300        35.10   5.0  2.0  84.0  57.0\n",
              "6   107.0       60.0    10.282        35.56   8.0  2.0  90.0  58.0\n",
              "7   132.0      104.0    10.282        36.15  12.0 -3.0  92.0  42.0\n",
              "8   170.0      127.0    10.282        35.58  14.0 -2.0  70.0  37.0\n",
              "9   213.0      179.0    10.283        35.24  14.0 -2.0  70.0  37.0"
            ]
          },
          "metadata": {
            "tags": []
          },
          "execution_count": 314
        }
      ]
    },
    {
      "cell_type": "code",
      "metadata": {
        "id": "OvFZ8RAf4zBW",
        "colab_type": "code",
        "outputId": "f1256e79-6aa0-47ac-8413-b298d7f1538c",
        "colab": {
          "base_uri": "https://localhost:8080/",
          "height": 336
        }
      },
      "source": [
        "sns.heatmap(f1.corr())"
      ],
      "execution_count": 0,
      "outputs": [
        {
          "output_type": "execute_result",
          "data": {
            "text/plain": [
              "<matplotlib.axes._subplots.AxesSubplot at 0x7fe42bc3e8d0>"
            ]
          },
          "metadata": {
            "tags": []
          },
          "execution_count": 312
        },
        {
          "output_type": "display_data",
          "data": {
            "image/png": "[encoded data removed]",
            "text/plain": [
              "<Figure size 432x288 with 2 Axes>"
            ]
          },
          "metadata": {
            "tags": []
          }
        }
      ]
    },
    {
      "cell_type": "code",
      "metadata": {
        "id": "3NbrwOuI5DLN",
        "colab_type": "code",
        "outputId": "98c97fe7-effb-4615-fe1b-81b1fd3a5e28",
        "colab": {
          "base_uri": "https://localhost:8080/",
          "height": 308
        }
      },
      "source": [
        "plt.plot(Chinese['Confirmed'],f1['LHUM'])\n",
        "plt.title(\"Confirmed Cases vs Changes in Humidity\")\n",
        "plt.suptitle('Wuhan')\n",
        "plt.xlabel(\"Confirmed Cases Freq\")\n",
        "plt.ylabel('Humidity(%)')\n",
        "plt.grid(True)"
      ],
      "execution_count": 0,
      "outputs": [
        {
          "output_type": "display_data",
          "data": {
            "image/png": "[encoded data removed]",
            "text/plain": [
              "<Figure size 432x288 with 1 Axes>"
            ]
          },
          "metadata": {
            "tags": []
          }
        }
      ]
    },
    {
      "cell_type": "code",
      "metadata": {
        "id": "WR-OKtdW8N_3",
        "colab_type": "code",
        "outputId": "90ff404e-f787-40a0-b223-5cb3734e5fe3",
        "colab": {
          "base_uri": "https://localhost:8080/",
          "height": 308
        }
      },
      "source": [
        "plt.plot(Chinese['Confirmed'],f1['LT'])\n",
        "plt.title(\"Confirmed Cases vs Drop in Temperatures\")\n",
        "plt.suptitle('Wuhan')\n",
        "plt.xlabel(\"Confirmed Cases Freq\")\n",
        "plt.ylabel('Lowest Temperature(Deg Cel)')\n",
        "plt.grid(True)"
      ],
      "execution_count": 0,
      "outputs": [
        {
          "output_type": "display_data",
          "data": {
            "image/png": "[encoded data removed]",
            "text/plain": [
              "<Figure size 432x288 with 1 Axes>"
            ]
          },
          "metadata": {
            "tags": []
          }
        }
      ]
    },
    {
      "cell_type": "code",
      "metadata": {
        "id": "1WnnxxKO8-Us",
        "colab_type": "code",
        "outputId": "31a4e211-2062-4c3d-821f-97ab34cb5dc9",
        "colab": {
          "base_uri": "https://localhost:8080/",
          "height": 308
        }
      },
      "source": [
        "plt.plot(Chinese['Confirmed'],f1['HT'])\n",
        "plt.title(\"Confirmed Cases vs Drop in Temperatures\")\n",
        "plt.suptitle('Wuhan')\n",
        "plt.xlabel(\"Confirmed Cases Freq\")\n",
        "plt.ylabel('Lowest Temperature(Deg Cel)')\n",
        "plt.grid(True)"
      ],
      "execution_count": 0,
      "outputs": [
        {
          "output_type": "display_data",
          "data": {
            "image/png": "[encoded data removed]",
            "text/plain": [
              "<Figure size 432x288 with 1 Axes>"
            ]
          },
          "metadata": {
            "tags": []
          }
        }
      ]
    },
    {
      "cell_type": "markdown",
      "metadata": {
        "id": "-Jkc5Fy29NBD",
        "colab_type": "text"
      },
      "source": [
        "# From the above anaylsis we can clerly conclude:\n",
        "- Rapid changes in weather characterized by extremeties in Temperature, Humidity\n",
        "  are possible factors which might favour pathogen production"
      ]
    },
    {
      "cell_type": "markdown",
      "metadata": {
        "id": "MytWB8T8AZjK",
        "colab_type": "text"
      },
      "source": [
        "# Now we analyse flights data over period of time"
      ]
    },
    {
      "cell_type": "code",
      "metadata": {
        "id": "lCi8gHh246B8",
        "colab_type": "code",
        "colab": {}
      },
      "source": [
        "flights_china=pd.read_csv('/content/China_flights.csv')"
      ],
      "execution_count": 0,
      "outputs": []
    },
    {
      "cell_type": "code",
      "metadata": {
        "id": "9Wiru40hCzOm",
        "colab_type": "code",
        "colab": {}
      },
      "source": [
        "flights_china=flights_china.drop(columns=['Day'])"
      ],
      "execution_count": 0,
      "outputs": []
    },
    {
      "cell_type": "code",
      "metadata": {
        "id": "qsvtgY-7Ainy",
        "colab_type": "code",
        "colab": {}
      },
      "source": [
        "filt_flight=flights_china[:10]"
      ],
      "execution_count": 0,
      "outputs": []
    },
    {
      "cell_type": "code",
      "metadata": {
        "id": "nxpAtaR4ECkk",
        "colab_type": "code",
        "colab": {}
      },
      "source": [
        "fli"
      ],
      "execution_count": 0,
      "outputs": []
    },
    {
      "cell_type": "code",
      "metadata": {
        "id": "fQBzzL3MBDtx",
        "colab_type": "code",
        "colab": {}
      },
      "source": [
        "f1=pd.concat([f1,filt_flight],axis=1)"
      ],
      "execution_count": 0,
      "outputs": []
    },
    {
      "cell_type": "code",
      "metadata": {
        "id": "VEPZS9a5Dat2",
        "colab_type": "code",
        "outputId": "84b1d643-4d74-4154-a4cd-eb75ef5729dd",
        "colab": {
          "base_uri": "https://localhost:8080/",
          "height": 340
        }
      },
      "source": [
        "f1"
      ],
      "execution_count": 0,
      "outputs": [
        {
          "output_type": "execute_result",
          "data": {
            "text/html": [
              "<div>\n",
              "<style scoped>\n",
              "    .dataframe tbody tr th:only-of-type {\n",
              "        vertical-align: middle;\n",
              "    }\n",
              "\n",
              "    .dataframe tbody tr th {\n",
              "        vertical-align: top;\n",
              "    }\n",
              "\n",
              "    .dataframe thead th {\n",
              "        text-align: right;\n",
              "    }\n",
              "</style>\n",
              "<table border=\"1\" class=\"dataframe\">\n",
              "  <thead>\n",
              "    <tr style=\"text-align: right;\">\n",
              "      <th></th>\n",
              "      <th>Deaths</th>\n",
              "      <th>Recovered</th>\n",
              "      <th>Currency</th>\n",
              "      <th>Shares(EUR)</th>\n",
              "      <th>HT</th>\n",
              "      <th>LT</th>\n",
              "      <th>HHUM</th>\n",
              "      <th>LHUM</th>\n",
              "      <th>Flights_toChina</th>\n",
              "    </tr>\n",
              "  </thead>\n",
              "  <tbody>\n",
              "    <tr>\n",
              "      <th>0</th>\n",
              "      <td>0.0</td>\n",
              "      <td>0.0</td>\n",
              "      <td>10.307</td>\n",
              "      <td>38.96</td>\n",
              "      <td>8.0</td>\n",
              "      <td>-2.0</td>\n",
              "      <td>91.0</td>\n",
              "      <td>93.0</td>\n",
              "      <td>10.0</td>\n",
              "    </tr>\n",
              "    <tr>\n",
              "      <th>1</th>\n",
              "      <td>18.0</td>\n",
              "      <td>30.0</td>\n",
              "      <td>10.318</td>\n",
              "      <td>36.99</td>\n",
              "      <td>7.0</td>\n",
              "      <td>4.0</td>\n",
              "      <td>92.0</td>\n",
              "      <td>80.0</td>\n",
              "      <td>11.0</td>\n",
              "    </tr>\n",
              "    <tr>\n",
              "      <th>2</th>\n",
              "      <td>26.0</td>\n",
              "      <td>36.0</td>\n",
              "      <td>10.280</td>\n",
              "      <td>36.27</td>\n",
              "      <td>8.0</td>\n",
              "      <td>4.0</td>\n",
              "      <td>90.0</td>\n",
              "      <td>87.0</td>\n",
              "      <td>14.0</td>\n",
              "    </tr>\n",
              "    <tr>\n",
              "      <th>3</th>\n",
              "      <td>4.0</td>\n",
              "      <td>6.0</td>\n",
              "      <td>10.270</td>\n",
              "      <td>36.20</td>\n",
              "      <td>6.0</td>\n",
              "      <td>6.0</td>\n",
              "      <td>90.0</td>\n",
              "      <td>81.0</td>\n",
              "      <td>18.0</td>\n",
              "    </tr>\n",
              "    <tr>\n",
              "      <th>4</th>\n",
              "      <td>52.0</td>\n",
              "      <td>43.0</td>\n",
              "      <td>10.270</td>\n",
              "      <td>36.15</td>\n",
              "      <td>4.0</td>\n",
              "      <td>4.0</td>\n",
              "      <td>82.0</td>\n",
              "      <td>75.0</td>\n",
              "      <td>25.0</td>\n",
              "    </tr>\n",
              "    <tr>\n",
              "      <th>5</th>\n",
              "      <td>80.0</td>\n",
              "      <td>51.0</td>\n",
              "      <td>10.300</td>\n",
              "      <td>35.10</td>\n",
              "      <td>5.0</td>\n",
              "      <td>2.0</td>\n",
              "      <td>84.0</td>\n",
              "      <td>57.0</td>\n",
              "      <td>27.0</td>\n",
              "    </tr>\n",
              "    <tr>\n",
              "      <th>6</th>\n",
              "      <td>107.0</td>\n",
              "      <td>60.0</td>\n",
              "      <td>10.282</td>\n",
              "      <td>35.56</td>\n",
              "      <td>8.0</td>\n",
              "      <td>2.0</td>\n",
              "      <td>90.0</td>\n",
              "      <td>58.0</td>\n",
              "      <td>29.0</td>\n",
              "    </tr>\n",
              "    <tr>\n",
              "      <th>7</th>\n",
              "      <td>132.0</td>\n",
              "      <td>104.0</td>\n",
              "      <td>10.282</td>\n",
              "      <td>36.15</td>\n",
              "      <td>12.0</td>\n",
              "      <td>-3.0</td>\n",
              "      <td>92.0</td>\n",
              "      <td>42.0</td>\n",
              "      <td>35.0</td>\n",
              "    </tr>\n",
              "    <tr>\n",
              "      <th>8</th>\n",
              "      <td>170.0</td>\n",
              "      <td>127.0</td>\n",
              "      <td>10.282</td>\n",
              "      <td>35.58</td>\n",
              "      <td>14.0</td>\n",
              "      <td>-2.0</td>\n",
              "      <td>70.0</td>\n",
              "      <td>37.0</td>\n",
              "      <td>100.0</td>\n",
              "    </tr>\n",
              "    <tr>\n",
              "      <th>9</th>\n",
              "      <td>213.0</td>\n",
              "      <td>179.0</td>\n",
              "      <td>10.283</td>\n",
              "      <td>35.24</td>\n",
              "      <td>14.0</td>\n",
              "      <td>-2.0</td>\n",
              "      <td>70.0</td>\n",
              "      <td>37.0</td>\n",
              "      <td>92.0</td>\n",
              "    </tr>\n",
              "  </tbody>\n",
              "</table>\n",
              "</div>"
            ],
            "text/plain": [
              "   Deaths  Recovered  Currency  Shares(EUR)  ...   LT  HHUM  LHUM  Flights_toChina\n",
              "0     0.0        0.0    10.307        38.96  ... -2.0  91.0  93.0             10.0\n",
              "1    18.0       30.0    10.318        36.99  ...  4.0  92.0  80.0             11.0\n",
              "2    26.0       36.0    10.280        36.27  ...  4.0  90.0  87.0             14.0\n",
              "3     4.0        6.0    10.270        36.20  ...  6.0  90.0  81.0             18.0\n",
              "4    52.0       43.0    10.270        36.15  ...  4.0  82.0  75.0             25.0\n",
              "5    80.0       51.0    10.300        35.10  ...  2.0  84.0  57.0             27.0\n",
              "6   107.0       60.0    10.282        35.56  ...  2.0  90.0  58.0             29.0\n",
              "7   132.0      104.0    10.282        36.15  ... -3.0  92.0  42.0             35.0\n",
              "8   170.0      127.0    10.282        35.58  ... -2.0  70.0  37.0            100.0\n",
              "9   213.0      179.0    10.283        35.24  ... -2.0  70.0  37.0             92.0\n",
              "\n",
              "[10 rows x 9 columns]"
            ]
          },
          "metadata": {
            "tags": []
          },
          "execution_count": 371
        }
      ]
    },
    {
      "cell_type": "markdown",
      "metadata": {
        "id": "y-n1y3FiGobN",
        "colab_type": "text"
      },
      "source": [
        "- More travels to China could lead to more spread of the disease \n",
        "\n",
        "- As well as as proffesionals taking trips urgently for thier business trips,etc."
      ]
    },
    {
      "cell_type": "code",
      "metadata": {
        "id": "O9Nfs6MrExGI",
        "colab_type": "code",
        "outputId": "7b325757-3c75-4da1-d998-0086616202ec",
        "colab": {
          "base_uri": "https://localhost:8080/",
          "height": 295
        }
      },
      "source": [
        "plt.plot(f1['Flights_toChina'],f1['Shares(EUR)'],)\n",
        "plt.title(\" Flight Demand vs Confirmed Cases \")\n",
        "plt.ylabel(\"Shares(EUR)\")\n",
        "plt.xlabel('Flights')\n",
        "plt.grid(True)"
      ],
      "execution_count": 0,
      "outputs": [
        {
          "output_type": "display_data",
          "data": {
            "image/png": "[encoded data removed]",
            "text/plain": [
              "<Figure size 432x288 with 1 Axes>"
            ]
          },
          "metadata": {
            "tags": []
          }
        }
      ]
    },
    {
      "cell_type": "code",
      "metadata": {
        "id": "kCE0SOJ-FboB",
        "colab_type": "code",
        "outputId": "9dbd6863-4bf8-49fb-dfd2-6eeb928a43e3",
        "colab": {
          "base_uri": "https://localhost:8080/",
          "height": 295
        }
      },
      "source": [
        "plt.plot(f1['Flights_toChina'],Chinese['Deaths'])\n",
        "plt.title(\"Flights vs Deaths\")\n",
        "plt.ylabel(\"Confirmed Cases Freq\")\n",
        "plt.xlabel('Flights')\n",
        "plt.grid(True)"
      ],
      "execution_count": 0,
      "outputs": [
        {
          "output_type": "display_data",
          "data": {
            "image/png": "[encoded data removed]",
            "text/plain": [
              "<Figure size 432x288 with 1 Axes>"
            ]
          },
          "metadata": {
            "tags": []
          }
        }
      ]
    },
    {
      "cell_type": "code",
      "metadata": {
        "id": "APR4yidOGHmP",
        "colab_type": "code",
        "outputId": "40b3030c-6aa5-4656-bed6-ea354a0bdf94",
        "colab": {
          "base_uri": "https://localhost:8080/",
          "height": 350
        }
      },
      "source": [
        "sns.heatmap(f1.corr())"
      ],
      "execution_count": 0,
      "outputs": [
        {
          "output_type": "execute_result",
          "data": {
            "text/plain": [
              "<matplotlib.axes._subplots.AxesSubplot at 0x7fe42b5cbf28>"
            ]
          },
          "metadata": {
            "tags": []
          },
          "execution_count": 383
        },
        {
          "output_type": "display_data",
          "data": {
            "image/png": "[encoded data removed]",
            "text/plain": [
              "<Figure size 432x288 with 2 Axes>"
            ]
          },
          "metadata": {
            "tags": []
          }
        }
      ]
    },
    {
      "cell_type": "code",
      "metadata": {
        "id": "qUr_--gWJ1bk",
        "colab_type": "code",
        "colab": {}
      },
      "source": [
        "data=pd.read_csv('/content/china.csv')"
      ],
      "execution_count": 0,
      "outputs": []
    },
    {
      "cell_type": "code",
      "metadata": {
        "id": "3vQEVrM1KkhD",
        "colab_type": "code",
        "colab": {}
      },
      "source": [
        "data.columns=['DROPPER','Provinces','Country','Last Update'\t,'Confirmed'\t,'Deaths'\t,'Recovered']"
      ],
      "execution_count": 0,
      "outputs": []
    },
    {
      "cell_type": "code",
      "metadata": {
        "id": "mZZRs7tRLABd",
        "colab_type": "code",
        "colab": {}
      },
      "source": [
        "data=data.drop(columns=['Last Update','DROPPER','Provinces','Country'])"
      ],
      "execution_count": 0,
      "outputs": []
    },
    {
      "cell_type": "code",
      "metadata": {
        "id": "ziXJfbzHMKiC",
        "colab_type": "code",
        "colab": {}
      },
      "source": [
        "data=data.fillna(method='ffill')"
      ],
      "execution_count": 0,
      "outputs": []
    },
    {
      "cell_type": "code",
      "metadata": {
        "id": "Mc8CFp6ZLBLy",
        "colab_type": "code",
        "colab": {}
      },
      "source": [
        "from sklearn.svm import SVR\n",
        "model=SVR(kernel='linear')\n",
        "model.fit(data[['Deaths','Recovered']].values,data['Confirmed'].values)\n",
        "predicted=model.predict(data[['Deaths','Recovered']].values)"
      ],
      "execution_count": 0,
      "outputs": []
    },
    {
      "cell_type": "code",
      "metadata": {
        "id": "-gwoH1UHLT_c",
        "colab_type": "code",
        "outputId": "b251cda2-67ce-432b-dab8-1052452e2ddd",
        "colab": {
          "base_uri": "https://localhost:8080/",
          "height": 284
        }
      },
      "source": [
        "plt.plot(np.arange(len(data)),predicted)"
      ],
      "execution_count": 0,
      "outputs": [
        {
          "output_type": "execute_result",
          "data": {
            "text/plain": [
              "[<matplotlib.lines.Line2D at 0x7fe42cf65358>]"
            ]
          },
          "metadata": {
            "tags": []
          },
          "execution_count": 79
        },
        {
          "output_type": "display_data",
          "data": {
            "image/png": "[encoded data removed]",
            "text/plain": [
              "<Figure size 432x288 with 1 Axes>"
            ]
          },
          "metadata": {
            "tags": []
          }
        }
      ]
    },
    {
      "cell_type": "code",
      "metadata": {
        "id": "lrUz6N9dc-5j",
        "colab_type": "code",
        "colab": {}
      },
      "source": [
        ""
      ],
      "execution_count": 0,
      "outputs": []
    },
    {
      "cell_type": "markdown",
      "metadata": {
        "id": "bDrOfKXyjArT",
        "colab_type": "text"
      },
      "source": [
        "# USA"
      ]
    },
    {
      "cell_type": "code",
      "metadata": {
        "id": "_8XDbQEyc5Xq",
        "colab_type": "code",
        "colab": {}
      },
      "source": [
        "usa=data[(data['Country']=='US')]\n",
        "usa=usa.drop(columns=['Sno','Province/State','Country'])"
      ],
      "execution_count": 0,
      "outputs": []
    },
    {
      "cell_type": "code",
      "metadata": {
        "id": "stXH1nLgjin4",
        "colab_type": "code",
        "colab": {}
      },
      "source": [
        "currency_usa=[71.110,71.331,71.326,71.329,71.451,71,71.2,71.310,71.569,71.497]\n",
        "currency_usa=pd.DataFrame(currency_usa)"
      ],
      "execution_count": 0,
      "outputs": []
    },
    {
      "cell_type": "code",
      "metadata": {
        "id": "QroKtBDskHws",
        "colab_type": "code",
        "colab": {}
      },
      "source": [
        "usa=usa.groupby('Last Update')['Confirmed','Deaths','Recovered'].sum().reset_index()"
      ],
      "execution_count": 0,
      "outputs": []
    },
    {
      "cell_type": "code",
      "metadata": {
        "id": "XjKjED8Zj0B7",
        "colab_type": "code",
        "colab": {}
      },
      "source": [
        "fUsa=pd.concat([usa,currency_usa],axis=1)"
      ],
      "execution_count": 0,
      "outputs": []
    },
    {
      "cell_type": "code",
      "metadata": {
        "id": "NWq_oRmCkOcr",
        "colab_type": "code",
        "colab": {}
      },
      "source": [
        "fUsa.columns=['Last Update','Confirmed','Deaths','Recovered','Currency']"
      ],
      "execution_count": 0,
      "outputs": []
    },
    {
      "cell_type": "code",
      "metadata": {
        "id": "sC4bRKKFklLl",
        "colab_type": "code",
        "outputId": "45cc4de8-fe84-4ec5-c2d9-3ce8a274214d",
        "colab": {
          "base_uri": "https://localhost:8080/",
          "height": 287
        }
      },
      "source": [
        "sns.heatmap(fUsa.drop(columns=['Deaths','Recovered']).corr())"
      ],
      "execution_count": 0,
      "outputs": [
        {
          "output_type": "execute_result",
          "data": {
            "text/plain": [
              "<matplotlib.axes._subplots.AxesSubplot at 0x7fe42bed4e48>"
            ]
          },
          "metadata": {
            "tags": []
          },
          "execution_count": 257
        },
        {
          "output_type": "display_data",
          "data": {
            "image/png": "[encoded data removed]",
            "text/plain": [
              "<Figure size 432x288 with 2 Axes>"
            ]
          },
          "metadata": {
            "tags": []
          }
        }
      ]
    },
    {
      "cell_type": "markdown",
      "metadata": {
        "id": "wLsDjBkVrIYQ",
        "colab_type": "text"
      },
      "source": [
        "We analyze apple shares and it's relationship.\n",
        "\n",
        "- Apple being an American company .\n",
        "- America is susceptible to nCOV disease.\n",
        "- Apple like many others has factories operational ,which have been shutdown      causing delays in productions"
      ]
    },
    {
      "cell_type": "code",
      "metadata": {
        "id": "Q9QYG-Kpn4dy",
        "colab_type": "code",
        "colab": {}
      },
      "source": [
        "apple_shares=pd.DataFrame([319.23,318.31,317.23,316.52,308.95,317.69,317.69,324.34,323.87,309.51])"
      ],
      "execution_count": 0,
      "outputs": []
    },
    {
      "cell_type": "code",
      "metadata": {
        "id": "z2LLVcLitcNy",
        "colab_type": "code",
        "outputId": "029e35a9-4c9e-46df-ea8b-86c0f8846513",
        "colab": {
          "base_uri": "https://localhost:8080/",
          "height": 340
        }
      },
      "source": [
        "fUsa"
      ],
      "execution_count": 0,
      "outputs": [
        {
          "output_type": "execute_result",
          "data": {
            "text/html": [
              "<div>\n",
              "<style scoped>\n",
              "    .dataframe tbody tr th:only-of-type {\n",
              "        vertical-align: middle;\n",
              "    }\n",
              "\n",
              "    .dataframe tbody tr th {\n",
              "        vertical-align: top;\n",
              "    }\n",
              "\n",
              "    .dataframe thead th {\n",
              "        text-align: right;\n",
              "    }\n",
              "</style>\n",
              "<table border=\"1\" class=\"dataframe\">\n",
              "  <thead>\n",
              "    <tr style=\"text-align: right;\">\n",
              "      <th></th>\n",
              "      <th>Last Update</th>\n",
              "      <th>Confirmed</th>\n",
              "      <th>Deaths</th>\n",
              "      <th>Recovered</th>\n",
              "      <th>Currency</th>\n",
              "    </tr>\n",
              "  </thead>\n",
              "  <tbody>\n",
              "    <tr>\n",
              "      <th>0</th>\n",
              "      <td>2020-01-22 12:00:00</td>\n",
              "      <td>1.0</td>\n",
              "      <td>0.0</td>\n",
              "      <td>0.0</td>\n",
              "      <td>71.110</td>\n",
              "    </tr>\n",
              "    <tr>\n",
              "      <th>1</th>\n",
              "      <td>2020-01-23 12:00:00</td>\n",
              "      <td>1.0</td>\n",
              "      <td>0.0</td>\n",
              "      <td>0.0</td>\n",
              "      <td>71.331</td>\n",
              "    </tr>\n",
              "    <tr>\n",
              "      <th>2</th>\n",
              "      <td>2020-01-24 12:00:00</td>\n",
              "      <td>2.0</td>\n",
              "      <td>0.0</td>\n",
              "      <td>0.0</td>\n",
              "      <td>71.326</td>\n",
              "    </tr>\n",
              "    <tr>\n",
              "      <th>3</th>\n",
              "      <td>2020-01-25 12:00:00</td>\n",
              "      <td>2.0</td>\n",
              "      <td>0.0</td>\n",
              "      <td>0.0</td>\n",
              "      <td>71.329</td>\n",
              "    </tr>\n",
              "    <tr>\n",
              "      <th>4</th>\n",
              "      <td>2020-01-26 23:00:00</td>\n",
              "      <td>5.0</td>\n",
              "      <td>0.0</td>\n",
              "      <td>0.0</td>\n",
              "      <td>71.451</td>\n",
              "    </tr>\n",
              "    <tr>\n",
              "      <th>5</th>\n",
              "      <td>2020-01-27 20:30:00</td>\n",
              "      <td>5.0</td>\n",
              "      <td>0.0</td>\n",
              "      <td>0.0</td>\n",
              "      <td>71.000</td>\n",
              "    </tr>\n",
              "    <tr>\n",
              "      <th>6</th>\n",
              "      <td>2020-01-28 18:00:00</td>\n",
              "      <td>1.0</td>\n",
              "      <td>0.0</td>\n",
              "      <td>0.0</td>\n",
              "      <td>71.200</td>\n",
              "    </tr>\n",
              "    <tr>\n",
              "      <th>7</th>\n",
              "      <td>2020-01-28 23:00:00</td>\n",
              "      <td>4.0</td>\n",
              "      <td>0.0</td>\n",
              "      <td>0.0</td>\n",
              "      <td>71.310</td>\n",
              "    </tr>\n",
              "    <tr>\n",
              "      <th>8</th>\n",
              "      <td>2020-01-29 21:00:00</td>\n",
              "      <td>5.0</td>\n",
              "      <td>0.0</td>\n",
              "      <td>0.0</td>\n",
              "      <td>71.569</td>\n",
              "    </tr>\n",
              "    <tr>\n",
              "      <th>9</th>\n",
              "      <td>2020-01-30 21:30:00</td>\n",
              "      <td>6.0</td>\n",
              "      <td>0.0</td>\n",
              "      <td>0.0</td>\n",
              "      <td>71.497</td>\n",
              "    </tr>\n",
              "  </tbody>\n",
              "</table>\n",
              "</div>"
            ],
            "text/plain": [
              "          Last Update  Confirmed  Deaths  Recovered  Currency\n",
              "0 2020-01-22 12:00:00        1.0     0.0        0.0    71.110\n",
              "1 2020-01-23 12:00:00        1.0     0.0        0.0    71.331\n",
              "2 2020-01-24 12:00:00        2.0     0.0        0.0    71.326\n",
              "3 2020-01-25 12:00:00        2.0     0.0        0.0    71.329\n",
              "4 2020-01-26 23:00:00        5.0     0.0        0.0    71.451\n",
              "5 2020-01-27 20:30:00        5.0     0.0        0.0    71.000\n",
              "6 2020-01-28 18:00:00        1.0     0.0        0.0    71.200\n",
              "7 2020-01-28 23:00:00        4.0     0.0        0.0    71.310\n",
              "8 2020-01-29 21:00:00        5.0     0.0        0.0    71.569\n",
              "9 2020-01-30 21:30:00        6.0     0.0        0.0    71.497"
            ]
          },
          "metadata": {
            "tags": []
          },
          "execution_count": 261
        }
      ]
    },
    {
      "cell_type": "code",
      "metadata": {
        "id": "4iHY2A3SsO_g",
        "colab_type": "code",
        "colab": {}
      },
      "source": [
        "fUsa=pd.concat([fUsa,apple_shares],axis=1)\n"
      ],
      "execution_count": 0,
      "outputs": []
    },
    {
      "cell_type": "code",
      "metadata": {
        "id": "_SVfXTEHsfVt",
        "colab_type": "code",
        "colab": {}
      },
      "source": [
        "fUsa.columns=['Last Update','Confirmed','Deaths','Recovered','Currency'\t,'SharePrice(USD)']"
      ],
      "execution_count": 0,
      "outputs": []
    },
    {
      "cell_type": "code",
      "metadata": {
        "id": "d81wwUomuanJ",
        "colab_type": "code",
        "outputId": "cc6019e9-304d-4d39-9f47-c16517582a0b",
        "colab": {
          "base_uri": "https://localhost:8080/",
          "height": 340
        }
      },
      "source": [
        "fUsa"
      ],
      "execution_count": 0,
      "outputs": [
        {
          "output_type": "execute_result",
          "data": {
            "text/html": [
              "<div>\n",
              "<style scoped>\n",
              "    .dataframe tbody tr th:only-of-type {\n",
              "        vertical-align: middle;\n",
              "    }\n",
              "\n",
              "    .dataframe tbody tr th {\n",
              "        vertical-align: top;\n",
              "    }\n",
              "\n",
              "    .dataframe thead th {\n",
              "        text-align: right;\n",
              "    }\n",
              "</style>\n",
              "<table border=\"1\" class=\"dataframe\">\n",
              "  <thead>\n",
              "    <tr style=\"text-align: right;\">\n",
              "      <th></th>\n",
              "      <th>Last Update</th>\n",
              "      <th>Confirmed</th>\n",
              "      <th>Deaths</th>\n",
              "      <th>Recovered</th>\n",
              "      <th>Currency</th>\n",
              "      <th>SharePrice(USD)</th>\n",
              "    </tr>\n",
              "  </thead>\n",
              "  <tbody>\n",
              "    <tr>\n",
              "      <th>0</th>\n",
              "      <td>2020-01-22 12:00:00</td>\n",
              "      <td>1.0</td>\n",
              "      <td>0.0</td>\n",
              "      <td>0.0</td>\n",
              "      <td>71.110</td>\n",
              "      <td>319.23</td>\n",
              "    </tr>\n",
              "    <tr>\n",
              "      <th>1</th>\n",
              "      <td>2020-01-23 12:00:00</td>\n",
              "      <td>1.0</td>\n",
              "      <td>0.0</td>\n",
              "      <td>0.0</td>\n",
              "      <td>71.331</td>\n",
              "      <td>318.31</td>\n",
              "    </tr>\n",
              "    <tr>\n",
              "      <th>2</th>\n",
              "      <td>2020-01-24 12:00:00</td>\n",
              "      <td>2.0</td>\n",
              "      <td>0.0</td>\n",
              "      <td>0.0</td>\n",
              "      <td>71.326</td>\n",
              "      <td>317.23</td>\n",
              "    </tr>\n",
              "    <tr>\n",
              "      <th>3</th>\n",
              "      <td>2020-01-25 12:00:00</td>\n",
              "      <td>2.0</td>\n",
              "      <td>0.0</td>\n",
              "      <td>0.0</td>\n",
              "      <td>71.329</td>\n",
              "      <td>316.52</td>\n",
              "    </tr>\n",
              "    <tr>\n",
              "      <th>4</th>\n",
              "      <td>2020-01-26 23:00:00</td>\n",
              "      <td>5.0</td>\n",
              "      <td>0.0</td>\n",
              "      <td>0.0</td>\n",
              "      <td>71.451</td>\n",
              "      <td>308.95</td>\n",
              "    </tr>\n",
              "    <tr>\n",
              "      <th>5</th>\n",
              "      <td>2020-01-27 20:30:00</td>\n",
              "      <td>5.0</td>\n",
              "      <td>0.0</td>\n",
              "      <td>0.0</td>\n",
              "      <td>71.000</td>\n",
              "      <td>317.69</td>\n",
              "    </tr>\n",
              "    <tr>\n",
              "      <th>6</th>\n",
              "      <td>2020-01-28 18:00:00</td>\n",
              "      <td>1.0</td>\n",
              "      <td>0.0</td>\n",
              "      <td>0.0</td>\n",
              "      <td>71.200</td>\n",
              "      <td>317.69</td>\n",
              "    </tr>\n",
              "    <tr>\n",
              "      <th>7</th>\n",
              "      <td>2020-01-28 23:00:00</td>\n",
              "      <td>4.0</td>\n",
              "      <td>0.0</td>\n",
              "      <td>0.0</td>\n",
              "      <td>71.310</td>\n",
              "      <td>324.34</td>\n",
              "    </tr>\n",
              "    <tr>\n",
              "      <th>8</th>\n",
              "      <td>2020-01-29 21:00:00</td>\n",
              "      <td>5.0</td>\n",
              "      <td>0.0</td>\n",
              "      <td>0.0</td>\n",
              "      <td>71.569</td>\n",
              "      <td>323.87</td>\n",
              "    </tr>\n",
              "    <tr>\n",
              "      <th>9</th>\n",
              "      <td>2020-01-30 21:30:00</td>\n",
              "      <td>6.0</td>\n",
              "      <td>0.0</td>\n",
              "      <td>0.0</td>\n",
              "      <td>71.497</td>\n",
              "      <td>309.51</td>\n",
              "    </tr>\n",
              "  </tbody>\n",
              "</table>\n",
              "</div>"
            ],
            "text/plain": [
              "          Last Update  Confirmed  Deaths  Recovered  Currency  SharePrice(USD)\n",
              "0 2020-01-22 12:00:00        1.0     0.0        0.0    71.110           319.23\n",
              "1 2020-01-23 12:00:00        1.0     0.0        0.0    71.331           318.31\n",
              "2 2020-01-24 12:00:00        2.0     0.0        0.0    71.326           317.23\n",
              "3 2020-01-25 12:00:00        2.0     0.0        0.0    71.329           316.52\n",
              "4 2020-01-26 23:00:00        5.0     0.0        0.0    71.451           308.95\n",
              "5 2020-01-27 20:30:00        5.0     0.0        0.0    71.000           317.69\n",
              "6 2020-01-28 18:00:00        1.0     0.0        0.0    71.200           317.69\n",
              "7 2020-01-28 23:00:00        4.0     0.0        0.0    71.310           324.34\n",
              "8 2020-01-29 21:00:00        5.0     0.0        0.0    71.569           323.87\n",
              "9 2020-01-30 21:30:00        6.0     0.0        0.0    71.497           309.51"
            ]
          },
          "metadata": {
            "tags": []
          },
          "execution_count": 264
        }
      ]
    },
    {
      "cell_type": "code",
      "metadata": {
        "id": "gwuiaAW2tBUG",
        "colab_type": "code",
        "outputId": "c6c2ac2a-b597-46c9-935a-74df6f3a3705",
        "colab": {
          "base_uri": "https://localhost:8080/",
          "height": 313
        }
      },
      "source": [
        "sns.heatmap(fUsa.drop(columns=['Deaths','Recovered']).corr())"
      ],
      "execution_count": 0,
      "outputs": [
        {
          "output_type": "execute_result",
          "data": {
            "text/plain": [
              "<matplotlib.axes._subplots.AxesSubplot at 0x7fe42bed9ac8>"
            ]
          },
          "metadata": {
            "tags": []
          },
          "execution_count": 265
        },
        {
          "output_type": "display_data",
          "data": {
            "image/png": "[encoded data removed]",
            "text/plain": [
              "<Figure size 432x288 with 2 Axes>"
            ]
          },
          "metadata": {
            "tags": []
          }
        }
      ]
    },
    {
      "cell_type": "code",
      "metadata": {
        "id": "9RRLIVN1tzFX",
        "colab_type": "code",
        "outputId": "9027956f-8bd9-488e-8957-4b106fd72688",
        "colab": {
          "base_uri": "https://localhost:8080/",
          "height": 295
        }
      },
      "source": [
        "plt.plot(fUsa['Currency'],fUsa['Confirmed'])\n",
        "plt.title(\"Confirmed Cases vs Shares Relationship\")\n",
        "plt.xlabel(\"Confirmed Cases Freq\")\n",
        "plt.ylabel('Shares Trend(EU)')\n",
        "plt.grid(True)"
      ],
      "execution_count": 0,
      "outputs": [
        {
          "output_type": "display_data",
          "data": {
            "image/png": "[encoded data removed]",
            "text/plain": [
              "<Figure size 432x288 with 1 Axes>"
            ]
          },
          "metadata": {
            "tags": []
          }
        }
      ]
    },
    {
      "cell_type": "markdown",
      "metadata": {
        "id": "DbI9oqNvwF53",
        "colab_type": "text"
      },
      "source": [
        "Geographical Location plays a big role different geographical features are required"
      ]
    },
    {
      "cell_type": "code",
      "metadata": {
        "id": "ZoHsCBW6uOhN",
        "colab_type": "code",
        "outputId": "e7c23b43-25f3-4811-9303-2ede2ea407d7",
        "colab": {
          "base_uri": "https://localhost:8080/",
          "height": 295
        }
      },
      "source": [
        "plt.plot(fUsa['SharePrice(USD)'],fUsa['Confirmed'])\n",
        "plt.title(\"Confirmed Cases vs Shares Relationship\")\n",
        "plt.xlabel(\"Confirmed Cases Freq\")\n",
        "plt.ylabel('Shares Trend(EU)')\n",
        "plt.grid(True)"
      ],
      "execution_count": 0,
      "outputs": [
        {
          "output_type": "display_data",
          "data": {
            "image/png": "[encoded data removed]",
            "text/plain": [
              "<Figure size 432x288 with 1 Axes>"
            ]
          },
          "metadata": {
            "tags": []
          }
        }
      ]
    },
    {
      "cell_type": "code",
      "metadata": {
        "id": "gRgNXplvvtZ4",
        "colab_type": "code",
        "colab": {}
      },
      "source": [
        "fUsa.to_csv('/content/usa_formatted.csv')"
      ],
      "execution_count": 0,
      "outputs": []
    },
    {
      "cell_type": "code",
      "metadata": {
        "id": "yXUYHaW368JX",
        "colab_type": "code",
        "outputId": "f7df0ae4-19f1-4335-b51f-116991e2d853",
        "colab": {
          "base_uri": "https://localhost:8080/",
          "height": 340
        }
      },
      "source": [
        "usa"
      ],
      "execution_count": 0,
      "outputs": [
        {
          "output_type": "execute_result",
          "data": {
            "text/html": [
              "<div>\n",
              "<style scoped>\n",
              "    .dataframe tbody tr th:only-of-type {\n",
              "        vertical-align: middle;\n",
              "    }\n",
              "\n",
              "    .dataframe tbody tr th {\n",
              "        vertical-align: top;\n",
              "    }\n",
              "\n",
              "    .dataframe thead th {\n",
              "        text-align: right;\n",
              "    }\n",
              "</style>\n",
              "<table border=\"1\" class=\"dataframe\">\n",
              "  <thead>\n",
              "    <tr style=\"text-align: right;\">\n",
              "      <th></th>\n",
              "      <th>Last Update</th>\n",
              "      <th>Confirmed</th>\n",
              "      <th>Deaths</th>\n",
              "      <th>Recovered</th>\n",
              "    </tr>\n",
              "  </thead>\n",
              "  <tbody>\n",
              "    <tr>\n",
              "      <th>0</th>\n",
              "      <td>2020-01-22 12:00:00</td>\n",
              "      <td>1.0</td>\n",
              "      <td>0.0</td>\n",
              "      <td>0.0</td>\n",
              "    </tr>\n",
              "    <tr>\n",
              "      <th>1</th>\n",
              "      <td>2020-01-23 12:00:00</td>\n",
              "      <td>1.0</td>\n",
              "      <td>0.0</td>\n",
              "      <td>0.0</td>\n",
              "    </tr>\n",
              "    <tr>\n",
              "      <th>2</th>\n",
              "      <td>2020-01-24 12:00:00</td>\n",
              "      <td>2.0</td>\n",
              "      <td>0.0</td>\n",
              "      <td>0.0</td>\n",
              "    </tr>\n",
              "    <tr>\n",
              "      <th>3</th>\n",
              "      <td>2020-01-25 12:00:00</td>\n",
              "      <td>2.0</td>\n",
              "      <td>0.0</td>\n",
              "      <td>0.0</td>\n",
              "    </tr>\n",
              "    <tr>\n",
              "      <th>4</th>\n",
              "      <td>2020-01-26 23:00:00</td>\n",
              "      <td>5.0</td>\n",
              "      <td>0.0</td>\n",
              "      <td>0.0</td>\n",
              "    </tr>\n",
              "    <tr>\n",
              "      <th>5</th>\n",
              "      <td>2020-01-27 20:30:00</td>\n",
              "      <td>5.0</td>\n",
              "      <td>0.0</td>\n",
              "      <td>0.0</td>\n",
              "    </tr>\n",
              "    <tr>\n",
              "      <th>6</th>\n",
              "      <td>2020-01-28 18:00:00</td>\n",
              "      <td>1.0</td>\n",
              "      <td>0.0</td>\n",
              "      <td>0.0</td>\n",
              "    </tr>\n",
              "    <tr>\n",
              "      <th>7</th>\n",
              "      <td>2020-01-28 23:00:00</td>\n",
              "      <td>4.0</td>\n",
              "      <td>0.0</td>\n",
              "      <td>0.0</td>\n",
              "    </tr>\n",
              "    <tr>\n",
              "      <th>8</th>\n",
              "      <td>2020-01-29 21:00:00</td>\n",
              "      <td>5.0</td>\n",
              "      <td>0.0</td>\n",
              "      <td>0.0</td>\n",
              "    </tr>\n",
              "    <tr>\n",
              "      <th>9</th>\n",
              "      <td>2020-01-30 21:30:00</td>\n",
              "      <td>6.0</td>\n",
              "      <td>0.0</td>\n",
              "      <td>0.0</td>\n",
              "    </tr>\n",
              "  </tbody>\n",
              "</table>\n",
              "</div>"
            ],
            "text/plain": [
              "          Last Update  Confirmed  Deaths  Recovered\n",
              "0 2020-01-22 12:00:00        1.0     0.0        0.0\n",
              "1 2020-01-23 12:00:00        1.0     0.0        0.0\n",
              "2 2020-01-24 12:00:00        2.0     0.0        0.0\n",
              "3 2020-01-25 12:00:00        2.0     0.0        0.0\n",
              "4 2020-01-26 23:00:00        5.0     0.0        0.0\n",
              "5 2020-01-27 20:30:00        5.0     0.0        0.0\n",
              "6 2020-01-28 18:00:00        1.0     0.0        0.0\n",
              "7 2020-01-28 23:00:00        4.0     0.0        0.0\n",
              "8 2020-01-29 21:00:00        5.0     0.0        0.0\n",
              "9 2020-01-30 21:30:00        6.0     0.0        0.0"
            ]
          },
          "metadata": {
            "tags": []
          },
          "execution_count": 334
        }
      ]
    },
    {
      "cell_type": "code",
      "metadata": {
        "id": "GlEd37a49lIH",
        "colab_type": "code",
        "colab": {}
      },
      "source": [
        "usa_flights=pd.read_csv('/content/usa_flights.csv')"
      ],
      "execution_count": 0,
      "outputs": []
    },
    {
      "cell_type": "code",
      "metadata": {
        "id": "GpK_BG4KH7xS",
        "colab_type": "code",
        "colab": {}
      },
      "source": [
        "fUsa=pd.concat([fUsa,usa_flights],axis=1)"
      ],
      "execution_count": 0,
      "outputs": []
    },
    {
      "cell_type": "code",
      "metadata": {
        "id": "qtgQSYjuIFwJ",
        "colab_type": "code",
        "colab": {}
      },
      "source": [
        "fUsa=fUsa.drop(columns=['Deaths','Recovered'])"
      ],
      "execution_count": 0,
      "outputs": []
    },
    {
      "cell_type": "code",
      "metadata": {
        "id": "BH3Mga71IGr6",
        "colab_type": "code",
        "outputId": "65764d0a-45c7-4674-b3fe-273783ddf66b",
        "colab": {
          "base_uri": "https://localhost:8080/",
          "height": 360
        }
      },
      "source": [
        "sns.heatmap(fUsa.corr())"
      ],
      "execution_count": 0,
      "outputs": [
        {
          "output_type": "execute_result",
          "data": {
            "text/plain": [
              "<matplotlib.axes._subplots.AxesSubplot at 0x7fe42b422fd0>"
            ]
          },
          "metadata": {
            "tags": []
          },
          "execution_count": 390
        },
        {
          "output_type": "display_data",
          "data": {
            "image/png": "[encoded data removed]",
            "text/plain": [
              "<Figure size 432x288 with 2 Axes>"
            ]
          },
          "metadata": {
            "tags": []
          }
        }
      ]
    },
    {
      "cell_type": "code",
      "metadata": {
        "id": "La6QG7YqIz-e",
        "colab_type": "code",
        "outputId": "5732f920-a826-4c07-ba3e-5f94aeb77203",
        "colab": {
          "base_uri": "https://localhost:8080/",
          "height": 340
        }
      },
      "source": [
        "fUsa"
      ],
      "execution_count": 0,
      "outputs": [
        {
          "output_type": "execute_result",
          "data": {
            "text/html": [
              "<div>\n",
              "<style scoped>\n",
              "    .dataframe tbody tr th:only-of-type {\n",
              "        vertical-align: middle;\n",
              "    }\n",
              "\n",
              "    .dataframe tbody tr th {\n",
              "        vertical-align: top;\n",
              "    }\n",
              "\n",
              "    .dataframe thead th {\n",
              "        text-align: right;\n",
              "    }\n",
              "</style>\n",
              "<table border=\"1\" class=\"dataframe\">\n",
              "  <thead>\n",
              "    <tr style=\"text-align: right;\">\n",
              "      <th></th>\n",
              "      <th>Last Update</th>\n",
              "      <th>Confirmed</th>\n",
              "      <th>Currency</th>\n",
              "      <th>SharePrice(USD)</th>\n",
              "      <th>Flights_toUS</th>\n",
              "    </tr>\n",
              "  </thead>\n",
              "  <tbody>\n",
              "    <tr>\n",
              "      <th>0</th>\n",
              "      <td>2020-01-22 12:00:00</td>\n",
              "      <td>1.0</td>\n",
              "      <td>71.110</td>\n",
              "      <td>319.23</td>\n",
              "      <td>67</td>\n",
              "    </tr>\n",
              "    <tr>\n",
              "      <th>1</th>\n",
              "      <td>2020-01-23 12:00:00</td>\n",
              "      <td>1.0</td>\n",
              "      <td>71.331</td>\n",
              "      <td>318.31</td>\n",
              "      <td>71</td>\n",
              "    </tr>\n",
              "    <tr>\n",
              "      <th>2</th>\n",
              "      <td>2020-01-24 12:00:00</td>\n",
              "      <td>2.0</td>\n",
              "      <td>71.326</td>\n",
              "      <td>317.23</td>\n",
              "      <td>72</td>\n",
              "    </tr>\n",
              "    <tr>\n",
              "      <th>3</th>\n",
              "      <td>2020-01-25 12:00:00</td>\n",
              "      <td>2.0</td>\n",
              "      <td>71.329</td>\n",
              "      <td>316.52</td>\n",
              "      <td>84</td>\n",
              "    </tr>\n",
              "    <tr>\n",
              "      <th>4</th>\n",
              "      <td>2020-01-26 23:00:00</td>\n",
              "      <td>5.0</td>\n",
              "      <td>71.451</td>\n",
              "      <td>308.95</td>\n",
              "      <td>82</td>\n",
              "    </tr>\n",
              "    <tr>\n",
              "      <th>5</th>\n",
              "      <td>2020-01-27 20:30:00</td>\n",
              "      <td>5.0</td>\n",
              "      <td>71.000</td>\n",
              "      <td>317.69</td>\n",
              "      <td>76</td>\n",
              "    </tr>\n",
              "    <tr>\n",
              "      <th>6</th>\n",
              "      <td>2020-01-28 18:00:00</td>\n",
              "      <td>1.0</td>\n",
              "      <td>71.200</td>\n",
              "      <td>317.69</td>\n",
              "      <td>77</td>\n",
              "    </tr>\n",
              "    <tr>\n",
              "      <th>7</th>\n",
              "      <td>2020-01-28 23:00:00</td>\n",
              "      <td>4.0</td>\n",
              "      <td>71.310</td>\n",
              "      <td>324.34</td>\n",
              "      <td>77</td>\n",
              "    </tr>\n",
              "    <tr>\n",
              "      <th>8</th>\n",
              "      <td>2020-01-29 21:00:00</td>\n",
              "      <td>5.0</td>\n",
              "      <td>71.569</td>\n",
              "      <td>323.87</td>\n",
              "      <td>86</td>\n",
              "    </tr>\n",
              "    <tr>\n",
              "      <th>9</th>\n",
              "      <td>2020-01-30 21:30:00</td>\n",
              "      <td>6.0</td>\n",
              "      <td>71.497</td>\n",
              "      <td>309.51</td>\n",
              "      <td>83</td>\n",
              "    </tr>\n",
              "  </tbody>\n",
              "</table>\n",
              "</div>"
            ],
            "text/plain": [
              "          Last Update  Confirmed  Currency  SharePrice(USD)  Flights_toUS\n",
              "0 2020-01-22 12:00:00        1.0    71.110           319.23            67\n",
              "1 2020-01-23 12:00:00        1.0    71.331           318.31            71\n",
              "2 2020-01-24 12:00:00        2.0    71.326           317.23            72\n",
              "3 2020-01-25 12:00:00        2.0    71.329           316.52            84\n",
              "4 2020-01-26 23:00:00        5.0    71.451           308.95            82\n",
              "5 2020-01-27 20:30:00        5.0    71.000           317.69            76\n",
              "6 2020-01-28 18:00:00        1.0    71.200           317.69            77\n",
              "7 2020-01-28 23:00:00        4.0    71.310           324.34            77\n",
              "8 2020-01-29 21:00:00        5.0    71.569           323.87            86\n",
              "9 2020-01-30 21:30:00        6.0    71.497           309.51            83"
            ]
          },
          "metadata": {
            "tags": []
          },
          "execution_count": 392
        }
      ]
    },
    {
      "cell_type": "code",
      "metadata": {
        "id": "4gwWP7mjIM1X",
        "colab_type": "code",
        "outputId": "654c931f-b7cd-4e5b-c503-2df00c671594",
        "colab": {
          "base_uri": "https://localhost:8080/",
          "height": 295
        }
      },
      "source": [
        "plt.plot(fUsa['Flights_toUS'],fUsa['Confirmed'])\n",
        "plt.title(\"Flight Demand vs Deaths\")\n",
        "plt.ylabel(\"Confirmed Cases Freq\")\n",
        "plt.xlabel('Flight Demand')\n",
        "plt.grid(True)"
      ],
      "execution_count": 0,
      "outputs": [
        {
          "output_type": "display_data",
          "data": {
            "image/png": "[encoded data removed]",
            "text/plain": [
              "<Figure size 432x288 with 1 Axes>"
            ]
          },
          "metadata": {
            "tags": []
          }
        }
      ]
    },
    {
      "cell_type": "code",
      "metadata": {
        "id": "a8SaijvEItYT",
        "colab_type": "code",
        "colab": {}
      },
      "source": [
        ""
      ],
      "execution_count": 0,
      "outputs": []
    }
  ]
}